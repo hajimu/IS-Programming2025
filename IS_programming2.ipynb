{
  "nbformat": 4,
  "nbformat_minor": 0,
  "metadata": {
    "colab": {
      "provenance": [],
      "collapsed_sections": [
        "sl8HUhnQaHwY"
      ],
      "toc_visible": true,
      "authorship_tag": "ABX9TyNDlwby1hmXiAkHE3fOSI6Y",
      "include_colab_link": true
    },
    "kernelspec": {
      "name": "python3",
      "display_name": "Python 3"
    }
  },
  "cells": [
    {
      "cell_type": "markdown",
      "metadata": {
        "id": "view-in-github",
        "colab_type": "text"
      },
      "source": [
        "<a href=\"https://colab.research.google.com/github/hajimu/IS-Programming2025/blob/main/IS_programming2.ipynb\" target=\"_parent\"><img src=\"https://colab.research.google.com/assets/colab-badge.svg\" alt=\"Open In Colab\"/></a>"
      ]
    },
    {
      "cell_type": "markdown",
      "metadata": {
        "id": "UEJBilI6XcwU"
      },
      "source": [
        "# Writing a program\n",
        "## Program is a sequence of statements (instructions).\n",
        "```\n",
        "a = 2\n",
        "b = 3\n",
        "c = a**2+b\n",
        "c\n",
        "```\n",
        "\n"
      ]
    },
    {
      "cell_type": "code",
      "metadata": {
        "id": "oqLeQokdoMdt"
      },
      "source": [
        "# Try yourself with above code\n"
      ],
      "execution_count": null,
      "outputs": []
    },
    {
      "cell_type": "markdown",
      "metadata": {
        "id": "inka6tDSYARV"
      },
      "source": [
        "In this example, a, b, and c are *variables*."
      ]
    },
    {
      "cell_type": "markdown",
      "metadata": {
        "id": "VNDa24VfppUY"
      },
      "source": [
        "# Variables\n",
        "Variable: Assignee (data container)\n",
        "\n",
        "* Depending on the language, it is necessary to declare the name and type of the variable to be used in advance.\n",
        "* In the case of an interpreter language, declaration and type specification are often unnecessary.\n",
        "* As in an example below, variables are automatically recognized and their types are automatically determined according to the textual expression and context by the Python interpreter\n",
        "\n",
        "\n",
        "\n",
        "\n",
        "```\n",
        "a = 1 #int\n",
        "b = 2.0 #float\n",
        "c = a + b #float\n",
        "a=a + 0.5 #float\n",
        "print(a,b,c)\n",
        "```\n",
        "\n",
        "\n",
        "\n"
      ]
    },
    {
      "cell_type": "code",
      "metadata": {
        "id": "OXNYZMMUZVj4"
      },
      "source": [
        "# try your self with above code\n"
      ],
      "execution_count": null,
      "outputs": []
    },
    {
      "cell_type": "markdown",
      "metadata": {
        "id": "sl8HUhnQaHwY"
      },
      "source": [
        "# Input and output\n",
        "*   input statement takes a string from command line\n",
        "\n",
        "*   print statement outputs values according to their types (fancy output is not treated in this class)\n",
        "\n",
        "```\n",
        "name = input(\"Type your name:\") # input( string for prompt message )\n",
        "print(\"Hello\",name) # print ( values, .... )\n",
        "```\n",
        "\n",
        "\n",
        "\n"
      ]
    },
    {
      "cell_type": "code",
      "metadata": {
        "id": "BlwUMTpdbG3e"
      },
      "source": [
        "# Try your self with above code\n"
      ],
      "execution_count": null,
      "outputs": []
    },
    {
      "cell_type": "markdown",
      "metadata": {
        "id": "Out1AuIwKgz6"
      },
      "source": [
        "# Operators\n"
      ]
    },
    {
      "cell_type": "markdown",
      "metadata": {
        "id": "r8x49PsDbLlM"
      },
      "source": [
        "### Arithmetic Operators\n",
        "```\n",
        "+\tAddition\tx + y\n",
        "-\tSubtraction\tx - y\n",
        "*\tMultiplication\tx * y\n",
        "/\tDivision\tx / y\n",
        "%\tModulus\tx % y\n",
        "**\tExponentiation\tx ** y\n",
        "//\tFloor division\tx // y\n",
        "```\n"
      ]
    },
    {
      "cell_type": "markdown",
      "metadata": {
        "id": "IoVrPib3LS4K"
      },
      "source": [
        "### Comparison Operators\n",
        "```\n",
        "==\tEqual\tx == y\n",
        "!=\tNot equal\tx != y\n",
        ">\tGreater than\tx > y\n",
        "<\tLess than\tx < y\n",
        ">=\tGreater than or equal to\tx >= y\n",
        "<=\tLess than or equal to\tx <= y\n",
        "```\n",
        "\n"
      ]
    },
    {
      "cell_type": "markdown",
      "metadata": {
        "id": "ybjyeSirLWeA"
      },
      "source": [
        "### Logical Operators\n",
        "```\n",
        "and Returns True if both of two operands have True values: a > b and b > c\n",
        "or\tReturns True if at least one of two oeprands have True value: a > b or a = b\n",
        "not\tReturns reversed value of the oprand:\tnot(a<b)\n",
        "```\n",
        "Read language reference for all available operators.\n",
        "https://docs.python.org/3/library/operator.html#mapping-operators-to-functions"
      ]
    },
    {
      "cell_type": "markdown",
      "metadata": {
        "id": "ES8ns2L2upNH"
      },
      "source": [
        "# Control statements\n",
        "\n",
        "* Conditional branch (if statement)\n",
        "* Iteration (for, while statement)\n",
        "\n",
        "visit <https://docs.python.org/3/tutorial/controlflow.html> for detail"
      ]
    },
    {
      "cell_type": "markdown",
      "metadata": {
        "id": "GuZPGw4gvG2f"
      },
      "source": [
        "## if statement\n",
        "```\n",
        "if <condition> : # colon is required\n",
        "    <true part> # indent with 4 white spaces\n",
        "else: #colon is required\n",
        "    <false part>\n",
        "#Block ends where indent ends.\n",
        "```\n",
        "elif (short for else if) can be used to avoid excessive indentation.\n",
        "```\n",
        "# Example\n",
        "x = int(input(\"Please enter an integer: \"))\n",
        "if x < 0:\n",
        "    x = 0\n",
        "    print('Negative changed to zero')\n",
        "elif x == 0:\n",
        "    print('Zero')\n",
        "elif x == 1:\n",
        "    print('Single')\n",
        "else:\n",
        "    print('More')\n",
        "```\n",
        "Above is equivalent to:\n",
        "```\n",
        "# Example\n",
        "x = int(input(\"Please enter an integer: \"))\n",
        "if x < 0:\n",
        "    x = 0\n",
        "    print('Negative changed to zero')\n",
        "else:\n",
        "    if x == 0:\n",
        "        print('Zero')\n",
        "    else:\n",
        "        if x == 1:\n",
        "            print('Single')\n",
        "        else:\n",
        "            print('More')\n",
        "```\n"
      ]
    },
    {
      "cell_type": "code",
      "metadata": {
        "id": "NQv0ZQ4AvrO6"
      },
      "source": [
        "#execute code above"
      ],
      "execution_count": null,
      "outputs": []
    },
    {
      "cell_type": "markdown",
      "metadata": {
        "id": "70iw85fDvpOx"
      },
      "source": [
        "## Iteration\n",
        "Iterative statement is essentially a conditional jump (loop).\n"
      ]
    },
    {
      "cell_type": "markdown",
      "metadata": {
        "id": "ds_Elx-1DB1Z"
      },
      "source": [
        "### While statement\n",
        "```\n",
        "while <condition> : #don't forget colon\n",
        "     #do something important\n",
        "     #do something to make the condition true\n",
        "#end of indentation indicates the end of loop\n",
        "#do something here after yo get out of while loop\n",
        "```\n",
        "Body statement is not executed if the condition is False at the beginning.\n",
        "There is no **repeat** statement in python.\n",
        "```\n",
        "name = input(\"What's your name?\")\n",
        "while name != 'bye':\n",
        "    print('Hi,', name, '!')\n",
        "    name = input(\"What's your name?\")\n",
        "print('good Bye!')\n",
        "```"
      ]
    },
    {
      "cell_type": "code",
      "metadata": {
        "id": "4mXo-WhfFDDS"
      },
      "source": [],
      "execution_count": null,
      "outputs": []
    },
    {
      "cell_type": "markdown",
      "metadata": {
        "id": "MxCwP0OqGynK"
      },
      "source": [
        "but with \"break\" statement, you don't have to write input statement twice:\n",
        "```\n",
        "while True:\n",
        "    name = input(\"What's your name?\")\n",
        "    if name == 'bye':\n",
        "        break\n",
        "    print('Hi,', name, '!')\n",
        "print('good Bye!')\n",
        "```\n",
        "*break* statement lets you jump out of the innermost iteration."
      ]
    },
    {
      "cell_type": "code",
      "metadata": {
        "id": "ggDHNJwaHSqC"
      },
      "source": [],
      "execution_count": null,
      "outputs": []
    },
    {
      "cell_type": "markdown",
      "metadata": {
        "id": "VBFS2VstyCp_"
      },
      "source": [
        "### For statement\n",
        "```\n",
        "for *variable* in [list or something] : #don't forget colon\n",
        "    #do something\n",
        "#end of indentation indicates the end of loop\n",
        "```"
      ]
    },
    {
      "cell_type": "code",
      "metadata": {
        "id": "6qXGnT3FyCOx"
      },
      "source": [
        "for animal in ['dog','cat','panda']:\n",
        "    print(animal),\n",
        "print(\"are animals\")"
      ],
      "execution_count": null,
      "outputs": []
    },
    {
      "cell_type": "markdown",
      "metadata": {
        "id": "_AzA5b6Gzfb8"
      },
      "source": [
        "*If* you do need to iterate over a sequence of numbers, the built-in function ''range()''comes in handy. It generates arithmetic progressions:\n"
      ]
    },
    {
      "cell_type": "code",
      "metadata": {
        "id": "RodcM2jgnzhe"
      },
      "source": [
        "for i in range(5):\n",
        "    print(i)\n",
        "for i in range(7,10):\n",
        "    print(i)"
      ],
      "execution_count": null,
      "outputs": []
    },
    {
      "cell_type": "markdown",
      "metadata": {
        "id": "YQDP3R7k0gqR"
      },
      "source": [
        "### *break* and *continue* Statements, and *else* Clauses on Loops\n",
        "* The *break* statement breaks out of the innermost enclosing *for* or *while* loop.\n",
        "* *Python's unique feature:* Loop statements may have an *else* clause; it is executed when the loop terminates through exhaustion of the iterable (with for) or when the condition becomes false (with while), but not when the loop is terminated by a *break* statement. This is exemplified by the following loop, which searches for prime numbers:\n",
        "```\n",
        "for n in range(2, 10):\n",
        "  for x in range(2, n):\n",
        "      if n % x == 0:\n",
        "          print(n, 'equals', x, '*', n//x)\n",
        "          break #escapes from inner for statement (for x in range(2, n))\n",
        "  else:\n",
        "      # loop felt through without finding a factor\n",
        "      print(n, 'is a prime number')\n",
        "  ## break statement above lets you jump here ##\n",
        "# end\n",
        "```\n"
      ]
    },
    {
      "cell_type": "code",
      "metadata": {
        "id": "5YWaaTCTze3D"
      },
      "source": [],
      "execution_count": null,
      "outputs": []
    },
    {
      "cell_type": "markdown",
      "metadata": {
        "id": "Jxv9GMXd1vsH"
      },
      "source": [
        "# Excercise 1\n",
        "The following code is a program to determine whether a number between 2 and 10 is prime.\n",
        "Write code to do the same without the 'flag' variable by introducing 'break' and 'else' statements (else-on-loop).\n",
        "\n",
        "#### Detailed description:\n",
        "The outer for loop changes the numbers from 2 to 10, and the inner for loop actually determines whether one number is prime or not.\n",
        "The Boolean variable 'flag' is used to determine whether a factor of the number was found in the inner for loop (whether there was a divisible number).\n",
        "\n"
      ]
    },
    {
      "cell_type": "code",
      "metadata": {
        "id": "a1EuJGzV2kSg"
      },
      "source": [
        "## SAMPLE\n",
        "for n in range(2, 10):\n",
        "  ## \"flag\" variable will be set True in the inner for loop\n",
        "  flag = False # True:factors found/False:no factor found. Must be ititialized just before starting inner loop\n",
        "  for x in range(2, n):\n",
        "    if n % x == 0 and flag == False: # Condition must be modified to produce output same as above\n",
        "      print(n, 'equals', x, '*', n//x)\n",
        "      flag = True\n",
        "  if not flag:\n",
        "    print(n, 'is a prime number')\n",
        "# end"
      ],
      "execution_count": null,
      "outputs": []
    },
    {
      "cell_type": "markdown",
      "source": [
        "To remove the variable flag from this code, it is necessary to escape the loop with a break statement as soon as the factor is found, and only output a prime number finding message if the escape by the break statement does not occur (= using an else statement).\n",
        "\n",
        "***\n",
        "* Save this note locally when you complete your report\n",
        "* Instruction to submit your report will be provided separately."
      ],
      "metadata": {
        "id": "Lm5yJuVKkWUf"
      }
    },
    {
      "cell_type": "code",
      "source": [
        "# ANSWER CELL #\n",
        "# modify this code to produce same output as above:\n",
        "for n in range(2, 10):\n",
        "  for x in range(2, n):\n",
        "    if n % x == 0:\n",
        "      print(n, 'equals', x, '*', n//x)\n",
        "  print(n, 'is a prime number')\n",
        "# end"
      ],
      "metadata": {
        "id": "2dQ3rXB0horG"
      },
      "execution_count": null,
      "outputs": []
    }
  ]
}